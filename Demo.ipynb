{
 "cells": [
  {
   "cell_type": "markdown",
   "metadata": {},
   "source": [
    "# COMP90014 demo notebook"
   ]
  },
  {
   "cell_type": "markdown",
   "metadata": {},
   "source": [
    "Blank notebook for Binder launch"
   ]
  },
  {
   "cell_type": "code",
   "execution_count": 5,
   "metadata": {},
   "outputs": [
    {
     "name": "stdout",
     "output_type": "stream",
     "text": [
      "{(2, 'b'), (3, 'c'), (1, 'a')}\n"
     ]
    }
   ],
   "source": [
    "lista = [1,2,3]\n",
    "listb = ['a','b','c']\n",
    "listc = zip(lista, listb)\n",
    "listc = set(listc)\n",
    "\n",
    "print(listc)"
   ]
  },
  {
   "cell_type": "code",
   "execution_count": 11,
   "metadata": {},
   "outputs": [
    {
     "name": "stdout",
     "output_type": "stream",
     "text": [
      "['Lachlan', 'Grace', 'Sam']\n"
     ]
    }
   ],
   "source": [
    "D = dict()\n",
    "D['tutors'] = \"Hannah\"\n",
    "D[\"students\"] = ['Lachlan', 'Grace', 'Sam']\n",
    "\n",
    "print(D['students'])"
   ]
  },
  {
   "cell_type": "code",
   "execution_count": 20,
   "metadata": {},
   "outputs": [
    {
     "name": "stdout",
     "output_type": "stream",
     "text": [
      "{'Person1': {'firstName': 'Hannah', 'lastname': 'Huckstep'}}\n",
      "Hannah\n"
     ]
    }
   ],
   "source": [
    "outer_dictionary = dict()\n",
    "inner_dictionary = dict()\n",
    "\n",
    "inner_dictionary['firstName'] = \"Hannah\"\n",
    "inner_dictionary['lastname'] = \"Huckstep\"\n",
    "outer_dictionary['Person1'] = inner_dictionary\n",
    "\n",
    "print(outer_dictionary)\n",
    "print(outer_dictionary['Person1']['firstName'])\n"
   ]
  },
  {
   "cell_type": "code",
   "execution_count": null,
   "metadata": {},
   "outputs": [],
   "source": []
  }
 ],
 "metadata": {
  "kernelspec": {
   "display_name": "Python 3",
   "language": "python",
   "name": "python3"
  },
  "language_info": {
   "codemirror_mode": {
    "name": "ipython",
    "version": 3
   },
   "file_extension": ".py",
   "mimetype": "text/x-python",
   "name": "python",
   "nbconvert_exporter": "python",
   "pygments_lexer": "ipython3",
   "version": "3.6.4"
  }
 },
 "nbformat": 4,
 "nbformat_minor": 2
}
